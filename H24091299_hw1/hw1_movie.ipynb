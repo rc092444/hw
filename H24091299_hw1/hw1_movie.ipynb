{
 "cells": [
  {
   "cell_type": "code",
   "execution_count": 3,
   "metadata": {},
   "outputs": [
    {
     "data": {
      "text/html": [
       "<div>\n",
       "<style scoped>\n",
       "    .dataframe tbody tr th:only-of-type {\n",
       "        vertical-align: middle;\n",
       "    }\n",
       "\n",
       "    .dataframe tbody tr th {\n",
       "        vertical-align: top;\n",
       "    }\n",
       "\n",
       "    .dataframe thead th {\n",
       "        text-align: right;\n",
       "    }\n",
       "</style>\n",
       "<table border=\"1\" class=\"dataframe\">\n",
       "  <thead>\n",
       "    <tr style=\"text-align: right;\">\n",
       "      <th></th>\n",
       "      <th>Rank</th>\n",
       "      <th>Title</th>\n",
       "      <th>Genre</th>\n",
       "      <th>Director</th>\n",
       "      <th>Actors</th>\n",
       "      <th>Year</th>\n",
       "      <th>Runtime (Minutes)</th>\n",
       "      <th>Rating</th>\n",
       "      <th>Votes</th>\n",
       "      <th>Revenue (Millions)</th>\n",
       "      <th>Metascore</th>\n",
       "    </tr>\n",
       "  </thead>\n",
       "  <tbody>\n",
       "    <tr>\n",
       "      <th>0</th>\n",
       "      <td>55</td>\n",
       "      <td>The Dark Knight</td>\n",
       "      <td>Action|Crime|Drama</td>\n",
       "      <td>Christopher Nolan</td>\n",
       "      <td>Christian Bale| Heath Ledger| Aaron Eckhart|Mi...</td>\n",
       "      <td>2008</td>\n",
       "      <td>152</td>\n",
       "      <td>9.0</td>\n",
       "      <td>1791916</td>\n",
       "      <td>533.32</td>\n",
       "      <td>82.0</td>\n",
       "    </tr>\n",
       "    <tr>\n",
       "      <th>1</th>\n",
       "      <td>81</td>\n",
       "      <td>Inception</td>\n",
       "      <td>Action|Adventure|Sci-Fi</td>\n",
       "      <td>Christopher Nolan</td>\n",
       "      <td>Leonardo DiCaprio| Joseph Gordon-Levitt| Ellen...</td>\n",
       "      <td>2010</td>\n",
       "      <td>148</td>\n",
       "      <td>8.8</td>\n",
       "      <td>1583625</td>\n",
       "      <td>292.57</td>\n",
       "      <td>74.0</td>\n",
       "    </tr>\n",
       "    <tr>\n",
       "      <th>2</th>\n",
       "      <td>118</td>\n",
       "      <td>Dangal</td>\n",
       "      <td>Action|Biography|Drama</td>\n",
       "      <td>Nitesh Tiwari</td>\n",
       "      <td>Aamir Khan| Sakshi Tanwar| Fatima Sana Shaikh|...</td>\n",
       "      <td>2016</td>\n",
       "      <td>161</td>\n",
       "      <td>8.8</td>\n",
       "      <td>48969</td>\n",
       "      <td>11.15</td>\n",
       "      <td>NaN</td>\n",
       "    </tr>\n",
       "    <tr>\n",
       "      <th>3</th>\n",
       "      <td>37</td>\n",
       "      <td>Interstellar</td>\n",
       "      <td>Adventure|Drama|Sci-Fi</td>\n",
       "      <td>Christopher Nolan</td>\n",
       "      <td>Matthew McConaughey| Anne Hathaway| Jessica Ch...</td>\n",
       "      <td>2014</td>\n",
       "      <td>169</td>\n",
       "      <td>8.6</td>\n",
       "      <td>1047747</td>\n",
       "      <td>187.99</td>\n",
       "      <td>74.0</td>\n",
       "    </tr>\n",
       "    <tr>\n",
       "      <th>4</th>\n",
       "      <td>97</td>\n",
       "      <td>Kimi no na wa</td>\n",
       "      <td>Animation|Drama|Fantasy</td>\n",
       "      <td>Makoto Shinkai</td>\n",
       "      <td>Ryunosuke Kamiki| Mone Kamishiraishi| Ryo Nari...</td>\n",
       "      <td>2016</td>\n",
       "      <td>106</td>\n",
       "      <td>8.6</td>\n",
       "      <td>34110</td>\n",
       "      <td>4.68</td>\n",
       "      <td>79.0</td>\n",
       "    </tr>\n",
       "  </tbody>\n",
       "</table>\n",
       "</div>"
      ],
      "text/plain": [
       "   Rank            Title                    Genre           Director  \\\n",
       "0    55  The Dark Knight       Action|Crime|Drama  Christopher Nolan   \n",
       "1    81        Inception  Action|Adventure|Sci-Fi  Christopher Nolan   \n",
       "2   118           Dangal   Action|Biography|Drama      Nitesh Tiwari   \n",
       "3    37     Interstellar   Adventure|Drama|Sci-Fi  Christopher Nolan   \n",
       "4    97    Kimi no na wa  Animation|Drama|Fantasy     Makoto Shinkai   \n",
       "\n",
       "                                              Actors  Year  Runtime (Minutes)  \\\n",
       "0  Christian Bale| Heath Ledger| Aaron Eckhart|Mi...  2008                152   \n",
       "1  Leonardo DiCaprio| Joseph Gordon-Levitt| Ellen...  2010                148   \n",
       "2  Aamir Khan| Sakshi Tanwar| Fatima Sana Shaikh|...  2016                161   \n",
       "3  Matthew McConaughey| Anne Hathaway| Jessica Ch...  2014                169   \n",
       "4  Ryunosuke Kamiki| Mone Kamishiraishi| Ryo Nari...  2016                106   \n",
       "\n",
       "   Rating    Votes  Revenue (Millions)  Metascore  \n",
       "0     9.0  1791916              533.32       82.0  \n",
       "1     8.8  1583625              292.57       74.0  \n",
       "2     8.8    48969               11.15        NaN  \n",
       "3     8.6  1047747              187.99       74.0  \n",
       "4     8.6    34110                4.68       79.0  "
      ]
     },
     "execution_count": 3,
     "metadata": {},
     "output_type": "execute_result"
    }
   ],
   "source": [
    "import pandas as pd\n",
    "import matplotlib.pyplot as plt\n",
    "%matplotlib inline\n",
    "df=pd.read_csv(\"C:/Users/User/Downloads/IMDB-Movie-Data.csv\")\n",
    "df.head()"
   ]
  },
  {
   "cell_type": "code",
   "execution_count": 18,
   "metadata": {},
   "outputs": [
    {
     "data": {
      "text/plain": [
       "7.175"
      ]
     },
     "execution_count": 18,
     "metadata": {},
     "output_type": "execute_result"
    }
   ],
   "source": [
    "import pandas as pd\n",
    "import matplotlib.pyplot as plt\n",
    "%matplotlib inline\n",
    "df=pd.read_csv(\"C:/Users/User/Downloads/IMDB-Movie-Data.csv\")\n"
   ]
  },
  {
   "cell_type": "code",
   "execution_count": 38,
   "metadata": {
    "scrolled": true
   },
   "outputs": [
    {
     "name": "stdout",
     "output_type": "stream",
     "text": [
      "1:Dangal\n",
      "2:Kimi no na wa\n",
      "3:Koe no katachi\n"
     ]
    },
    {
     "name": "stderr",
     "output_type": "stream",
     "text": [
      "<ipython-input-38-13c6b5d88208>:8: SettingWithCopyWarning: \n",
      "A value is trying to be set on a copy of a slice from a DataFrame.\n",
      "Try using .loc[row_indexer,col_indexer] = value instead\n",
      "\n",
      "See the caveats in the documentation: https://pandas.pydata.org/pandas-docs/stable/user_guide/indexing.html#returning-a-view-versus-a-copy\n",
      "  a[\"ratingrank\"]=a[\"Rating\"].rank(method=\"min\",ascending=False)\n"
     ]
    }
   ],
   "source": [
    "import pandas as pd\n",
    "import matplotlib.pyplot as plt\n",
    "%matplotlib inline\n",
    "df=pd.read_csv(\"C:/Users/User/Downloads/IMDB-Movie-Data.csv\")\n",
    "a=df[df[\"Year\"]==2016]\n",
    "a.sort_values(by=['Rating'],ascending=False)\n",
    "\n",
    "a[\"ratingrank\"]=a[\"Rating\"].rank(method=\"min\",ascending=False)\n",
    "\n",
    "for i in range(1,4):\n",
    "    x=a[a[\"ratingrank\"]==i]\n",
    "    for t in range(len(x)):\n",
    "        print(str(i)+\":\"+x.iloc[t,1])"
   ]
  },
  {
   "cell_type": "code",
   "execution_count": null,
   "metadata": {},
   "outputs": [],
   "source": []
  },
  {
   "cell_type": "code",
   "execution_count": 54,
   "metadata": {},
   "outputs": [
    {
     "name": "stdout",
     "output_type": "stream",
     "text": [
      "1:Daisy Ridley\n",
      "1:John Boyega\n"
     ]
    }
   ],
   "source": [
    "import pandas as pd\n",
    "import matplotlib.pyplot as plt\n",
    "%matplotlib inline\n",
    "df=pd.read_csv(\"C:/Users/User/Downloads/IMDB-Movie-Data.csv\")\n",
    "df[\"Actors\"]=df[\"Actors\"].str.split(\"|\")\n",
    "df2=pd.DataFrame(columns=[\"Actors\",\"Revenue (Millions)\"])\n",
    "for i in range(len(df)):\n",
    "    for j in df[\"Actors\"][i]:\n",
    "        df2=df2.append({\"Actors\":j.strip(),\"Revenue (Millions)\":df[\"Revenue (Millions)\"][i]},ignore_index=True)\n",
    "t=df2.groupby(\"Actors\")\n",
    "df3=pd.DataFrame(columns=[\"Actors\",\"Revenue\"])\n",
    "for i,j in t:\n",
    "    n=t.get_group(i)\n",
    "    df3=df3.append({\"Actors\":i,\"Revenue\":(n[\"Revenue (Millions)\"].sum())/len(n)},ignore_index=True)\n",
    "df3[\"ratingrank\"]=df3[\"Revenue\"].rank(method=\"min\",ascending=False)\n",
    "x=df3[df3[\"ratingrank\"]==1]\n",
    "for t in range(len(x)):\n",
    "    print(str(1)+\":\"+x.iloc[t,0])"
   ]
  },
  {
   "cell_type": "code",
   "execution_count": 55,
   "metadata": {},
   "outputs": [
    {
     "name": "stdout",
     "output_type": "stream",
     "text": [
      "7.175\n"
     ]
    }
   ],
   "source": [
    "import pandas as pd\n",
    "import matplotlib.pyplot as plt\n",
    "%matplotlib inline\n",
    "df=pd.read_csv(\"C:/Users/User/Downloads/IMDB-Movie-Data.csv\")\n",
    "a=df[df[\"Actors\"].str.contains(\"Emma Watson\")]\n",
    "print(a[\"Rating\"].mean())"
   ]
  },
  {
   "cell_type": "code",
   "execution_count": 62,
   "metadata": {},
   "outputs": [
    {
     "name": "stdout",
     "output_type": "stream",
     "text": [
      "1:Ridley Scott\n",
      "2:M. Night Shyamalan\n",
      "3:Danny Boyle\n",
      "3:Paul W.S. Anderson\n"
     ]
    }
   ],
   "source": [
    "import pandas as pd\n",
    "import matplotlib.pyplot as plt\n",
    "%matplotlib inline\n",
    "df=pd.read_csv(\"C:/Users/User/Downloads/IMDB-Movie-Data.csv\")\n",
    "di=[]\n",
    "df[\"Actors\"]=df[\"Actors\"].str.split(\"|\")\n",
    "df2=pd.DataFrame(columns=[\"direc\",\"Actors\"])\n",
    "for i in range(len(df)):\n",
    "    for j in df[\"Actors\"][i]:\n",
    "        df2=df2.append({\"Actors\":j.strip(),\"direc\":df[\"Director\"][i]},ignore_index=True)\n",
    "\n",
    "df3=pd.DataFrame(columns=[\"dire\",\"n\"])\n",
    "for i,j in df2.groupby(\"direc\"):\n",
    "    df3=df3.append({\"dire\":i,\"n\":len(df2.groupby(\"direc\").get_group(i).groupby(\"Actors\"))},ignore_index=True)\n",
    "df3[\"ratingrank\"]=df3[\"n\"].rank(method=\"min\",ascending=False)\n",
    "\n",
    "for i in range(1,4):\n",
    "    x=df3[df3[\"ratingrank\"]==i]\n",
    "    for t in range(len(x)):\n",
    "        print(str(i)+\":\"+x.iloc[t,0])"
   ]
  },
  {
   "cell_type": "code",
   "execution_count": 6,
   "metadata": {},
   "outputs": [
    {
     "name": "stdout",
     "output_type": "stream",
     "text": [
      "1:Brad Pitt\n",
      "2:Amy Adams\n",
      "2:Chloe Grace Moretz\n",
      "2:Hugh Jackman\n",
      "2:Johnny Depp\n",
      "2:Scarlett Johansson\n"
     ]
    }
   ],
   "source": [
    "import pandas as pd\n",
    "import matplotlib.pyplot as plt\n",
    "%matplotlib inline\n",
    "df=pd.read_csv(\"C:/Users/User/Downloads/IMDB-Movie-Data.csv\")\n",
    "df2=pd.DataFrame(columns=[\"ac\",\"g\"])\n",
    "df[\"Actors\"]=df[\"Actors\"].str.split(\"|\")\n",
    "df[\"Genre\"]=df[\"Genre\"].str.split(\"|\")\n",
    "for i in range(len(df)):\n",
    "    for j in df[\"Actors\"][i]:\n",
    "        for k in df[\"Genre\"][i]:\n",
    "            df2=df2.append({ \"ac\":j.strip(), \"g\":k},ignore_index=True)\n",
    "            \n",
    "df3=pd.DataFrame(columns=[\"ac\",\"n\"])\n",
    "for i,j in df2.groupby(\"ac\"):\n",
    "    df3=df3.append({ \"ac\":i, \"n\":len(df2.groupby(\"ac\").get_group(i).groupby(\"g\"))},ignore_index=True)    \n",
    "df3[\"ratingrank\"]=df3[\"n\"].rank(method=\"min\",ascending=False)\n",
    "for i in range(1,3):\n",
    "    x=df3[df3[\"ratingrank\"]==i]\n",
    "    for t in range(len(x)):\n",
    "        print(str(i)+\":\"+x.iloc[t,0])"
   ]
  },
  {
   "cell_type": "code",
   "execution_count": 76,
   "metadata": {},
   "outputs": [
    {
     "name": "stdout",
     "output_type": "stream",
     "text": [
      "1:Abbie Cornish\n",
      "1:Anne Hathaway\n",
      "1:Audrey Tautou\n",
      "1:Ben Kingsley\n",
      "1:Ben Whishaw\n",
      "1:Bob Balaban\n",
      "1:Brad Pitt\n",
      "1:Bryce Dallas Howard\n",
      "1:Chiwetel Ejiofor\n",
      "1:Christian Bale\n",
      "1:Christopher Plummer\n",
      "1:Denzel Washington\n",
      "1:Dominic West\n",
      "1:Dustin Hoffman\n",
      "1:Edward Norton\n",
      "1:Ellen Burstyn\n",
      "1:Emily Blunt\n",
      "1:Eva Green\n",
      "1:Gerard Butler\n",
      "1:Hugh Jackman\n",
      "1:Jack Davenport\n",
      "1:Jennifer Aniston\n",
      "1:Jennifer Connelly\n",
      "1:Jeremy Irons\n",
      "1:Jessica Biel\n",
      "1:Johnny Depp\n",
      "1:Judi Dench\n",
      "1:Justin Theroux\n",
      "1:Kang-ho Song\n",
      "1:Kate Bosworth\n",
      "1:Kevin Spacey\n",
      "1:Kirsten Dunst\n",
      "1:Luke Wilson\n",
      "1:Marion Cotillard\n",
      "1:Mark Wahlberg\n",
      "1:Matt Damon\n",
      "1:Maya Rudolph\n",
      "1:Meryl Streep\n",
      "1:Michelle Monaghan\n",
      "1:Morgan Freeman\n",
      "1:Owen Wilson\n",
      "1:Paula Patton\n",
      "1:Rachel Weisz\n",
      "1:Russell Crowe\n",
      "1:Sacha Baron Cohen\n",
      "1:Samuel L. Jackson\n",
      "1:Scarlett Johansson\n",
      "1:Steve Carell\n",
      "1:Tom Cruise\n",
      "1:Tom Hanks\n",
      "1:Toni Collette\n",
      "1:Will Ferrell\n",
      "1:Will Smith\n"
     ]
    }
   ],
   "source": [
    "import pandas as pd\n",
    "import matplotlib.pyplot as plt\n",
    "%matplotlib inline\n",
    "df=pd.read_csv(\"C:/Users/User/Downloads/IMDB-Movie-Data.csv\")\n",
    "df[\"Actors\"]=df[\"Actors\"].str.split(\"|\")\n",
    "df2=pd.DataFrame(columns=[\"Actors\",\"Year\"])\n",
    "for i in range(len(df)):\n",
    "    for j in df[\"Actors\"][i]:\n",
    "        df2=df2.append({\"Actors\":j.strip(),\"Year\":df[\"Year\"][i]},ignore_index=True)\n",
    "t=df2.groupby(\"Actors\")\n",
    "df3=pd.DataFrame(columns=[\"Actors\",\"gap\"])\n",
    "for i,j in t:\n",
    "    n=t.get_group(i)\n",
    "    df3=df3.append({\"Actors\":i,\"gap\":n[\"Year\"].max()-n[\"Year\"].min()},ignore_index=True)\n",
    "df3[\"ratingrank\"]=df3[\"gap\"].rank(method=\"min\",ascending=False)\n",
    "x=df3[df3[\"ratingrank\"]==1]\n",
    "for t in range(len(x)):\n",
    "    print(str(1)+\":\"+x.iloc[t,0])"
   ]
  },
  {
   "cell_type": "code",
   "execution_count": 83,
   "metadata": {},
   "outputs": [
    {
     "name": "stdout",
     "output_type": "stream",
     "text": [
      "{'Brighton Sharbino', 'Christopher Lee', 'Juliet Rylance', 'Oliver Platt', 'Clifton Collins Jr.', 'Christopher Mintz-Plasse', 'Harley Quinn Smith', 'Kaitlin Olson', 'Megan Park', 'Colin Farrell', 'Christian Stevens', 'James Franco', 'Joey Morgan', 'Richard Madden', 'Cynthia Nixon', 'Craig Van Hook', 'Charles S. Dutton', 'Sheila Kelley', 'David James', 'Sam Claflin', 'Taylor Schilling', 'Tony Danza', 'Dane Cook', 'Alfre Woodard', 'America Ferrera', 'Justin Bartha', 'Tabu', 'Lake Bell', 'Charlie Heaton', 'Benedict Cumberbatch', 'Melissa McCarthy', 'Eric Godon', 'Alexis Clagett', 'Kit Harington', 'Wei Tang', 'Andre Braugher', 'Noel Fisher', 'Jon Hamm', 'Tony Goldwyn', 'Ginnifer Goodwin', 'Kurt Fuller', 'Sienna Guillory', 'Thomas Brodie-Sangster', 'Emayatzy Corinealdi', 'Eddie Baroo', 'Liana Liberato', 'Michelle Yeoh', \"Vincent D'Onofrio\", 'Bella Thorne', 'Iris Apatow', 'Miranda Cosgrove', 'Amber Tamblyn', 'Josh Wiggins', 'David Harbour', 'Annabelle Attanasio', 'Luke Kleintank', 'Olivia Cooke', 'Richard Armitage', 'Scott Mescudi', 'Ferdia Walsh-Peelo', 'Jessie Ok Gray', 'Ang Phula Sherpa', 'Sean Faris', 'Ruby Barnhill', 'Adil Hussain', 'Paul Giamatti', 'Moe Dunford', 'Geoffrey Arend', 'Bruce Willis', 'Cam Gigandet', 'David Wenham', 'Gattlin Griffith', 'Luke Evans', 'Brittany Murphy', 'Nick Robinson', 'Robert Capron', 'Lynn Collins', 'Steve Zahn', 'Sylvia Hoeks', 'Ben Foster', 'Danielle Nicolet', 'Ruben Blades', 'Kevin James', 'Paul Rudd', 'Madeleine West', 'Genesis Rodriguez', 'John Hurt', 'Ivo Nandi', 'Brandon Routh', 'Michael Shannon', 'Elizabeth Banks', 'Toby Kebbell', 'Nicola Peltz', 'Megan Fox', 'Lorenza Izzo', 'Brian Dennehy', 'Sarah Gadon', 'Ruth Wilson', 'Isabella Rossellini', 'Jackie Earle Haley', 'Elijah Smith', 'John Boyega', 'Barkhad Abdi', 'Geoffrey Rush', 'F. Murray Abraham', 'Gina Carano', 'Harry Connick Jr.', 'Edward Asner', 'Rasmus Hardiker', 'Vinnie Jones', 'Jack Black', 'Byung-hun Lee', 'Miyavi', 'Brie Larson', 'Marcia Gay Harden', 'Florence Clery', 'Katy Barker', 'Suraj Sharma', 'Barry Pepper', 'Mateo Arias', 'Laura Allen', 'Cara Delevingne', 'Jason Schwartzman', 'Laurent Lucas', 'Imelda Staunton', 'Vincent Kartheiser', 'Aaron Taylor-Johnson', 'Sean Bean', 'Timothy Olyphant', 'Mia Goth', 'Annabeth Gish', 'Luke Bracey', 'Jennifer Morrison', 'Adam Devine', 'John C. Reilly', 'Nia Vardalos', 'Ben Affleck', 'Michael Caine', 'Sarah Polley', 'Rebecca Hall', 'Annette Bening', 'Eve', 'Jan Cornet', 'Julie Andrews', 'Matthew Fox', 'Melissa Benoist', 'Shia LaBeouf', 'Tyne Daly', 'Matthew Morrison', 'Riley Keough', 'Danny Sapani', 'Carly Rae Jepsen', 'Jason Momoa', 'Imogen Poots', 'Rabah Nait Oufella', 'Iain Glen', 'Erin Moriarty', 'Sarita Choudhury', 'Jonny Brugh', 'Ansel Elgort', 'Connie Nielsen', 'William Fichtner', 'Saoirse Ronan', 'Tom Sizemore', 'Johnny Simmons', 'Quinton Aaron', 'Guillaume Baillargeon', 'Diego Boneta', 'Zoe Kravitz', 'Peter Stormare', 'Lucy Liu', 'Chris Pratt', 'Edgar Ramirez', 'Anthony Hopkins', 'Dick Van Dyke', 'Eric Winter', 'Julian Barratt', 'Thomas Lennon', 'Patricia Arquette', 'James Hamrick', 'Mary Elizabeth Winstead', 'Sunny Pawar', 'Tilda Swinton', 'Joey Lauren Adams', 'Ron Livingston', 'Raffey Cassidy', 'Shiloh Fernandez', 'Chloe Grace Moretz', 'Ariel Levy', 'Miles Teller', 'Edward Norton', 'Kieran Culkin', 'Josh Peck', 'Gerry Bednob', 'Cary Joji Fukunaga', 'Dan Fogler', 'Kevin Spacey', 'Tyrese Gibson', 'Dwayne Johnson', 'Gabriela Lopez', 'Michiel Huisman', 'Katherine Waterston', '50 Cent', 'Leslie Jones', 'Ben Winchell', 'Joan Cusack', 'Julia Ormond', 'Owen Wilson', 'Kevin Hart', 'Hugh Grant', 'Cush Jumbo', 'Dominic West', 'Sullivan Stapleton', 'Glenn Close', 'Andy Garcia', 'Zooey Deschanel', 'Julie Benz', 'Gemma Arterton', 'Eric Bana', 'Max Irons', 'Jerry Stiller', 'Pierre Coffin', 'Kagiso Kuypers', 'Logan Miller', 'Ji-min Han', 'Danny Huston', 'Gwyneth Paltrow', 'Alex Essoe', 'Tania Raymonde', 'Ruth Negga', 'Noomi Rapace', 'Zachary Gordon', 'Ralph Ineson', 'Anders Holm', 'Josh Stewart', 'Vernetta Lopez', 'Kat Dennings', 'Dominique McElligott', 'Benicio Del Toro', 'Maria Doyle Kennedy', 'Cedric the Entertainer', 'Hae-il Park', 'Paul Birchard', 'Olivia Munn', 'Carice van Houten', 'Corey Stoll', 'Michael Ealy', 'Marlon Wayans', 'Rip Torn', \"Fionn O'Shea\", 'Jack Reynor', 'Zoe Saldana', \"Jerry O'Connell\", 'Allison Tolman', 'Adam Sandler', 'Steve Lantz', 'Seth MacFarlane', 'Lea Seydoux', 'Ellie Kemper', 'Sean Patrick Thomas', 'Matt Lanter', 'Camille Cottin', 'Jordan Carlos', 'Kara Hayward', 'Janet McTeer', 'Fred Dalton Thompson', 'Maggie Gyllenhaal', 'Israel Broussard', 'Wes Bentley', 'Logan Lerman', 'Wenwen Han', 'Lucas Black', 'Colm Feore', 'Alexis Dziena', 'Tommy Lee Jones', 'Chris Messina', 'Michael Nyqvist', 'Elijah Wood', 'Jessica Chastain', 'Mel Gibson', 'Bob Balaban', 'Alia Shawkat', 'Chloe Sevigny', 'Max Burkholder', 'Diego Luna', 'Michael Mantell', 'Zach Grenier', 'Craig Robinson', 'Ed Oxenbould', 'Amr Waked', \"Sofia Black-D'Elia\", 'Sally Hawkins', 'David Strathairn', 'Adam Rodriguez', 'Salma Hayek', 'Nicholas Hoult', 'Emmanuelle Chriqui', 'Daniel Bruhl', 'Tom Hanks', 'John Corbett', 'Pierce Brosnan', 'Barry Ward', 'Jared Gilman', 'Kate Winslet', 'Reese Witherspoon', 'Blake Lively', 'Paula Beer', 'David Denman', 'Julie Walters', 'Derek Jacobi', 'Daniel Olbrychski', 'Daniel Gimenez Cacho', 'Charlotte Le Bon', 'Keith Carradine', 'Aaron Paul', 'Kevin Dillon', 'Christopher Walken', 'Kate Mara', 'Sarah Snook', 'Ed Harris', 'Colin Hanks', 'Famke Janssen', 'Alfie Allen', 'Bella Heathcote', 'Kevin Nealon', 'Arnold Schwarzenegger', 'Samantha Sloyan', 'Quvenzhane Wallis', 'Olivia Thirlby', 'Jennifer Lawrence', 'Sam Rockwell', 'Alan Tudyk', 'Rose Byrne', 'Jason Sudeikis', 'Kati Outinen', 'Seth Rogen', 'Mae Whitman', 'Sally Phillips', 'Tim Blake Nelson', 'Kaya Scodelario', 'Jamie Bell', 'James Gandolfini', 'Sarah Jessica Parker', 'Penelope Wilton', 'Carmen Ejogo', 'Lucy Fry', 'Lulu Wilson', 'Duncan Joiner', 'Brian Geraghty', 'Kirby Bliss Blanton', 'Olivia Luccardi', 'Hayden Christensen', 'Gemma Jones', 'Judah Lewis', 'Tobias Menzies', 'Tammy Blanchard', 'Salim Kechiouche', 'Olga Kurylenko', 'Douglas M. Griffin', 'Billy Burke', 'Portia Doubleday', 'Larry the Cable Guy', 'Hilary Swank', 'Catalina Sandino Moreno', 'Keri Russell', 'Taylor Swift', 'Juno Temple', 'Jena Malone', 'Haley Joel Osment', 'Frank Langella', 'Adelaide Kane', 'Danny Trejo', 'Karl Glusman', 'Annie Rose Buckley', 'Rihanna', \"Mo'Nique\", 'Vin Diesel', 'Lucas Till', 'Kevin Connolly', 'Dermot Mulroney', 'Peter Riegert', 'Gabriella Wilde', 'Sue Dahlman', 'Alan Alda', 'Soo-an Kim', 'Art Parkinson', 'Michael Chiklis', 'Laurence Fishburne', 'Casey Affleck', 'Robin Williams', 'Gary Cole', 'Hermione Corfield', 'Theo Rossi', 'Aubrey Plaza', 'Aurelien Recoing', 'Liam Hemsworth', 'Moises Acevedo', 'Christopher Fitzgerald', 'Robert Pattinson', 'Andy Powers', 'Denis Leary', 'Leland Orser', 'Madina Nalwanga', 'Amanda Peet', 'Ethan Suplee', 'James Marsden', 'Jessica Brown Findlay', 'Deanna Dunagan', 'Danny McBride', 'Shad Moss', 'Albert Finney', 'Jay Baruchel', 'Jake Abel', 'Aasif Mandvi', 'Natalie Martinez', 'Vincent Ebrahim', 'Julianne Moore', 'Vicky Krieps', 'Ray Romano', 'Ben Stiller', 'Tian Jing', 'Lily Rabe', 'Kang-ho Song', 'Antonio Tarver', 'Emily Mortimer', 'Sam Shepard', 'Jason Statham', 'Gal Gadot', 'Eddie Redmayne', 'Odeya Rush', 'Mark Strong', 'Gabriel Chavarria', 'Josh Brolin', 'Chatchawai Kamonsakpitak', 'Mia Stallard', 'Neil Patrick Harris', 'Ethan Hawke', 'Nathan Fillion', 'Rila Fukushima', 'Stacy Martin', 'Ike Barinholtz', 'Laurie Holden', 'Chris Wedge', 'Kylie Rogers', 'Damien Marzette', 'Colin Quinn', 'Nick Krause', 'Kathy Baker', 'Usher Raymond', 'Kim Coates', 'Karen Disher', 'Bokeem Woodbine', 'Emma Greenwell', 'Jordi Moll?', 'Mike Vogel', 'Jonah Hill', 'Joel David Moore', 'Andrea Whitburn', 'Xavier Samuel', 'Lauren Graham', 'Shawn Roberts', 'Helen Mirren', 'Aomi Muyock', 'Cobie Smulders', 'Maggie Grace', 'Jennifer Koenig', 'Daniel Radcliffe', 'Anton Yelchin', 'Kimberly Elise', 'Cheryl Hines', 'Isaiah Stone', 'Ryan Reynolds', 'Simon Helberg', 'Chris Rock', 'Jared Leto', 'Scarlett Johansson', 'Alec Baldwin', 'Jon Voight', 'Arturo Castro', 'Thomas Haden Church', 'Jamie Blackley', 'Phylicia Rashad', 'James Ransone', 'Sophie Perry', 'Alice Englert', 'Demian Bichir', 'Marton Csokas', 'Simon Pegg', 'Danny DeVito', 'Dev Patel', 'Trenton Rogers', 'Elisabeth Shue', 'Garrett M. Brown', 'Steven Mackintosh', 'Sarah Silverman', 'Patricia Clarkson', 'Scott Lawrence', 'Morena Baccarin', 'Adam Levine', 'Kenneth Branagh', 'Rachel Weisz', 'Kathy Bates', 'Shameik Moore', 'Noah Wiseman', 'Meryl Streep', 'Pablo Schreiber', 'Dianna Agron', 'Mary McCormack', 'Jenny Slate', 'Bill Paxton', 'Robert Redford', 'Anya Taylor-Joy', 'Alex Fisher', 'Melanie Laurent', 'Adrian Martinez', 'Julian Dennison', 'Jessica Sula', 'Sam Riley', 'Michael Douglas', 'Ciaran Hinds', 'Toni Collette', 'January Jones', 'Tessa Thompson', 'Terry Crews', 'John Hawkes', 'Bruno Campos', 'Will Yun Lee', 'Emily Browning', 'Jenna Elfman', 'Mindy Kaling', 'Orlando Bloom', 'Jon Favreau', 'Joan Allen', 'Vincent Cassel', 'Joaquin Phoenix', 'Jeff Daniels', 'Nikolaj Coster-Waldau', 'Greta Gerwig', 'Jim Parsons', 'Lauren Holly', 'Daniel Craig', 'Antonia Ribero', 'James McAvoy', 'Jet Li', 'Wentworth Miller', 'Nick Nolte', 'Analeigh Tipton', 'Ewa Froling', 'Bel Powley', 'Jackie Chan', 'Gregg Weiner', 'Patrick Wilson', 'Paula Patton', 'Amy Schumer', 'Maria Bello', 'Bruce Greenwood', 'Michael Stuhlbarg', 'Javier Bardem', 'Jason Barry', 'Lucy Walters', 'Joel Edgerton', 'Matt Long', 'Liam Neeson', 'Lin Shaye', 'Peyton List', \"Lupita Nyong'o\", 'Lars Eidinger', 'Brit Marling', 'Joseph Mawle', 'Deborah Kara Unger', 'Jennifer Lopez', 'Ari Graynor', 'Anthony Edwards', 'Olivia Wilde', 'Kenny Wormald', 'Dakota Johnson', 'Rhys Ifans', 'Zac Efron', 'Kari Matchett', 'Jaden Smith', 'Pierre Niney', 'Karl Urban', 'Aryana Engineer', 'Katherine Heigl', 'Rory J. Saper', 'Christian Bale', 'Rory Cochrane', 'Jake Johnson', 'Jacob Tremblay', 'Teresa Palmer', 'George Lopez', 'T.R. Knight', 'Thomas Mann', 'Alain Moussi', 'Charlie Day', 'Alison Brie', 'Oakes Fegley', 'Saurabh Shukla', \"Jason O'Mara\", 'Armin Mueller-Stahl', 'Nicholas Braun', 'Adria Arjona', \"Beverly D'Angelo\", 'Alessandro Nivola', 'Cameron Diaz', 'Jovan Adepo', 'Jean Reno', 'Rufus Sewell', 'Isla Fisher', 'Tim Allen', 'Marley Shelton', 'Jack Madigan', 'Rainn Wilson', 'Bill Nighy', 'Lesley Manville', 'AnnaSophia Robb', 'Tom Prior', 'Clint Dyer', 'Jae Head', 'Johnny Depp', 'Jason Clarke', 'Zoe Bell', 'Michelle Pfeiffer', 'Ni Ni', 'Denzel Washington', 'Amara Miller', 'Vanessa Hudgens', 'Rachel House', 'Dave Franco', 'Wendi McLendon-Covey', 'Michael Pena', 'Kristen Bell', 'Ryan Gosling', 'Danny Glover', 'Gaby Hoffmann', 'Robert Knepper', 'Paula Prentiss', 'John Travolta', 'Rachel Korine', 'John Alexander', 'Idina Menzel', 'Steve Coogan', 'Ashlyn Sanchez', 'Fran Kranz', 'Jason Isaacs', 'Carmen Electra', 'Maya Rudolph', 'Cary-Hiroyuki Tagawa', 'Christopher Evan Welch', 'Charlie Cox', 'Gabriel Bateman', 'Guy Pearce', 'Jordana Brewster', 'Mary Steenburgen', 'Nicolas Cage', 'Brett Cullen', 'Antje Traue', 'Gabourey Sidibe', 'Jeremy Irons', 'Alexandra Daddario', 'Dong-seok Ma', 'Patrick Dempsey', 'Joe Alwyn', 'Sigrid Bouaziz', 'Chris Cooper', 'Judy Greer', 'Keanu Reeves', 'Val Kilmer', 'John Cullum', 'Sandra Bullock', 'Michael Parks', 'John Doman', 'Andrew Simpson', 'Nat Wolff', 'Zachary Levi', \"Frances O'Connor\", 'Jake Gyllenhaal', 'Isabelle Nelisse', 'Susan Sarandon', 'Liev Schreiber', 'RJ Cyler', 'Peter McRobbie', 'Rob Riggle', 'Scott Glenn', 'Florence Kastriner', 'Lydia Wilson', 'Annalise Basso', 'Gabriel Byrne', 'Michael Sheen', 'Laura Ramsey', 'Joely Richardson', 'Naomi Watts', 'Ezra Miller', 'Dennis Quaid', 'Linda Gegusch', 'Skyler Gisondo', 'Jim Carrey', 'Sean Bott', 'Michael C. Hall', 'Kerry Washington', 'Robin Wright', 'Sam Elliott', 'Josh Brener', 'Carla Gugino', 'Katie Crown', 'Tony Amendola', 'Kate Hudson', 'Dominic Cooper', 'Dean Norris', 'Trey Songz', 'Will Ferrell', 'Max Greenfield', 'Josh Gad', 'Kate Dickie', 'Max Martini', 'Dan Stevens', 'Stephen Lang', 'Alan Arkin', 'Sharlto Copley', 'Garret Dillahunt', 'Julia Stiles', 'Dean Mumford', 'Don Thompson', 'Kevin Kline', 'Linda Cardellini', 'Thomas Middleditch', 'Vanessa Ferlito', 'Alan Rickman', 'Britt Robertson', 'Frank Madigan', 'Steven Yeun', 'Jeff Kahn', 'Kate Bosworth', 'Jonathan Groff', 'Rosemarie DeWitt', 'Hugh Laurie', 'Jane Lynch', 'Oona Laurence', 'Taraji P. Henson', 'Jennifer Connelly', 'John Goodman', 'Will Smith', 'Brad Pitt', 'Ewen Leslie', 'Haley Bennett', 'Angelo Josue Lozano Corzo', 'Emory Cohen', 'Olivia Colman', 'Rosamund Pike', 'Jonathan Roumie', 'Daniel Henshall', 'Penn Badgley', 'Gael Garcia Bernal', 'Ving Rhames', 'Addison Timlin', 'Oaklee Pendergast', 'Jo Hartley', 'Oona Chaplin', 'Valerie Mahaffey', 'Bill Murray', 'Joel McHale', 'Victoria Justice', 'Michael McDonald', 'Lewis MacDougall', 'Bill Hader', 'Til Schweiger', 'Neel Sethi', 'Jenna Dewan Tatum', 'Amy Poehler', 'Ned Beatty', 'Jennifer Garner', 'Lewis Black', 'T.I.', 'Jim Broadbent', 'Stephen Moyer', 'Boyd Holbrook', 'Tina Fey', 'Tom Hiddleston', 'Freddie Crowder', 'Jessica Alba', 'Jeffrey Wright', 'Nikki Blonsky', 'Jude Law', 'Natalie Portman', 'Brooke Shields', 'Alison Sudol', 'Dougie McConnell', 'Brian Marc', 'Brady Corbet', 'Anika Noni Rose', 'Mel Raido', 'Blythe Danner', 'Luke Wilson', 'Michael Pitt', 'J. Todd Smith', 'Woody Allen', 'Riley Thomas Stewart', 'Michael Constantine', 'Giovanni Ribisi', 'Martin Freeman', 'Jamie Dornan', 'Peter Sarsgaard', 'Robert De Niro', 'Candice Bergen', 'Mireille Enos', 'Harrison Ford', 'Sean Penn', 'Christoph Waltz', 'Will Poulter', 'Michael Rooker', 'George Clooney', 'Lena Endre', 'Steve Carell', 'Vera Farmiga', 'Jasmine Trinca', 'Moon Bloodgood', 'Paul Walker', 'Carey Mulligan', 'Sam Trammell', 'Sanjeev Bhaskar', 'Kelsey Grammer', 'Billie Piper', 'Matt Damon', 'Clive Owen', 'Karen Gillan', 'Tom Costello', 'Audrey Tautou', 'Jordan Nagai', 'Sam Worthington', 'Sarah Dumont', 'Callum Keith Rennie', 'Tyler Hoechlin', 'Jared Harris', 'Anne Hathaway', 'Tangie Ambrose', 'Milla Jovovich', 'India Eisley', 'Lorraine Nicholson', 'John Krasinski', 'Tony Revolori', 'Richard Gere', 'Isabelle Fuhrman', 'Steve Buscemi', 'Aaron Eckhart', 'Diane Kruger', 'Adrianne Palicki', 'Felicity Jones', 'Helena Bonham Carter', 'Lukas Hassel', \"Auli'i Cravalho\", 'Michelle Williams', 'Joseph Gordon-Levitt', 'Alfred Molina', 'Jennifer Ehle', 'Kevin McKidd', 'Billy Crystal', 'Jane Levy', 'Richard Dreyfuss', 'Dana Fuchs', 'Faith Wladyka', 'Diego Klattenhoff', 'Daniel Eric Gold', 'Patrick Stewart', 'Michael McElhatton', 'Ken Watanabe', 'Laura Dern', 'Angela Bassett', 'Josef Altin', 'David Spade', 'Maude Apatow', 'Tom Felton', 'Ryan Guzman', 'Zoe Kazan', 'Devon Bostick', 'Keir Gilchrist', 'Ellar Coltrane', 'Kerry Bishe', 'Aidan Gillen', 'Jim Caviezel', 'John C. McGinley', 'Allen Leech', 'Charlie Tahan', 'Rachael Blake', 'Tim McGraw', 'Klara Kristin', 'Emily Blunt', 'Jason Cope', 'Craig T. Nelson', 'Michael Dickson', 'Nazanin Boniadi', 'Freida Pinto', 'Sophie Okonedo', 'Jemima West', 'Dolph Lundgren', 'Peter Dinklage', 'John Turturro', \"John D'Leo\", 'Donna Murphy', 'Lili Taylor', 'Justin Timberlake', 'Rizwan Manji', 'Harold Perrineau', 'Dale Dickey', 'Emily Meade', 'Hugo Weaving', 'Andreas Wisniewski', 'Jessica Barth', 'Amanda Bynes', 'Leehom Wang', 'Michael Kelly', 'Mia Wasikowska', 'Selena Gomez', 'Theo James', 'Leslie Bibb', 'Amy Adams', 'Gil Birmingham', 'Elizabeth Debicki', 'Min-sik Choi', 'Tim Roth', 'Rupert Friend', 'Danila Kozlovsky', 'Adrien Brody', 'Joe Anderson', 'Anna Faris', 'Sarah Roemer', 'Doug Jones', 'Evangeline Lilly', 'Dominique Tipper', 'Mariah Carey', 'Rachel Bilson', 'Vanessa Lachey', 'Tadanobu Asano', 'Eddie Izzard', 'Karel Hermanek Jr.', 'Sacha Baron Cohen', 'Mark Wahlberg', 'Craig Ferguson', 'Chris Hemsworth', 'Kim Cattrall', 'Daniella Kertesz', 'Ed Helms', 'Alexander Black', 'Dax Shepard', 'Jeremy McWilliams', 'Amy Ryan', 'Ice Cube', 'Adam Pally', 'Karen Allen', 'Andrea Riseborough', 'Jack Huston', 'Ella Anderson', 'Billy Connolly', 'Diane Lane', 'Hayley McElhinney', 'Ronnie Gene Blevins', 'Gugu Mbatha-Raw', 'Max von Sydow', 'Cary Elwes', 'Hee-Bong Byun', 'Sasha Lane', 'Abigail Breslin', 'Jennifer Jason Leigh', 'Ian McShane', 'Michael Vartan', 'Rinko Kikuchi', 'Christopher Plummer', 'Noah Taylor', 'Thomas Jane', 'Lizzy Caplan', 'James DuMont', 'Samantha Isler', 'Travis Fimmel', 'Martin McCann', 'Rachel Wood', 'Joel Courtney', 'Tao Okamoto', 'Julianne Hough', 'Natasha Henstridge', 'Jessica Barden', 'Liv Tyler', 'Megan Charpentier', 'Rose Leslie', 'Abbie Cornish', 'Margarita Levieva', 'Aaron Yoo', 'Charles Dance', 'Nicole Parker', 'Will Dalton', 'Anders Danielsen Lie', 'Steve Martin', 'Nathalie Baye', 'John Cusack', 'Thomas M. Wright', 'Aidan Quinn', 'Janelle Monae', 'Paul Dano', 'Lambert Wilson', 'David Thewlis', 'Channing Tatum', 'Ben Kingsley', 'Ron Perlman', 'Henry Cavill', 'Joseph Fiennes', 'Golshifteh Farahani', 'Zachary Bennett', 'Mickey Rourke', 'Josh Lucas', 'Lena Headey', 'Kristen Stewart', 'Irrfan Khan', 'Idris Elba', 'Duan Sanderson', 'Alex R. Hibbert', 'Nathan Phillips', 'Melissa Leo', 'Matthew McConaughey', 'Rene Russo', 'Shannon Woodward', 'Sarah Paulson', 'Linh Dan Pham', 'Samantha Morton', 'Austin Stowell', 'Evan Rachel Wood', 'Jennifer Saunders', 'Selma Blair', 'Paul Anderson', 'Andie MacDowell', 'Robbie Amell', 'Christian Cooke', 'Kristin Chenoweth', 'Marie Gruber', 'Alex Pettyfer', 'Kyle Chandler', 'Maddie Ziegler', 'Tyler Perry', 'Jennifer Aniston', 'Lili Sepe', 'Colm Meaney', 'Ian McKellen', 'John Ratzenberger', 'Hailee Steinfeld', 'Michael Trucco', 'Kai Ryssdal', 'Forest Whitaker', 'Lynsey Taylor Mackay', 'Antonio Banderas', 'Donnie Yen', 'Joe Manganiello', 'Joe Cobden', 'Mohamed Akhzam', 'Stephen Merchant', 'Cori Gonzalez-Macuer', 'Radha Mitchell', 'Ward Horton', 'Miles Heizer', 'Elisabeth Moss', 'Ted Levine', 'Emma Watson', 'Richenda Carey', 'Katie Holmes', 'Jessica Lucas', 'Karen Moskow', 'John Leguizamo', 'Mark Chao', 'Aidan Turner', 'Thandie Newton', 'Greg Kinnear', 'Morgan Lily', 'Bailey Anne Borders', 'Tyler James Williams', 'Taissa Farmiga', 'Eric Stonestreet', 'Caitlyn Rund', 'Freddie Highmore', 'Bradley Cooper', 'Kevin Costner', 'Tobey Maguire', 'Lily James', 'Albert Brooks', 'Su Elliot', 'Nina Dobrev', 'Callan McAuliffe', 'Willem Dafoe', 'Matthias Schoenaerts', 'Kodi Smit-McPhee', 'Russell Crowe', \"Zac Mattoon O'Brien\", 'Nick Frost', 'Julian Richings', 'Rachel McAdams', 'Lisa Thoreson', 'Dax Flame', 'Riz Ahmed', 'Kurt Russell', 'Kate Siegel', 'Elizabeth Berrington', 'Benedict Wong', 'Rhona Mitra', 'Kyle Gallner', 'Annabelle Wallis', 'Elle Fanning', 'Ray Stevenson', 'Adrian Grenier', 'Lia Marie Johnson', 'Edie Falco', 'Lou Taylor Pucci', 'Jim Sturgess', 'Derek Luke', 'Barkhad Abdirahman', 'Juan Saavedra', 'Kate Beckinsale', 'Jesse Eisenberg', 'Bill Pullman', 'Garrett Hedlund', 'John Hodgman', 'Bonnie Hunt', 'Cara Buono', 'Viola Davis', 'Jalil Lespert', 'Alistair Abell', 'Jerry Ferrara', 'Brenton Thwaites', 'Marion Cotillard', 'Robert Duvall', 'Rose McGowan', 'Peter Facinelli', 'Angourie Rice', 'Dylan Minnette', 'Heath Ledger', 'Anna Hutchison', 'Cillian Murphy', 'Djimon Hounsou', 'Bill Engvall', 'Samuel L. Jackson', 'Yu-mi Jung', 'Arnaud Viard', 'Milo Ventimiglia', 'C.H. Evans', 'Henry Thomas', 'Kristin Scott Thomas', 'Donald Sutherland', 'Josh Duhamel', 'Jeremy Renner', 'Maika Monroe', 'Mira Sorvino', 'Jamal Woolard', 'Gabriel Basso', 'Eloise Mumford', 'Jeffrey Dean Morgan', 'AJ Michalka', 'Alexandra Maria Lara', 'Ed Skrein', 'Nicole Beharie', 'Gemma Ward', 'Kirsten Dunst', 'Ryan Potter', 'Jesse Plemons', 'Keith David', 'Paul Reiser', 'Hayley Atwell', 'Emily Ratajkowski', 'Katee Sackhoff', '?lafur Darri ?lafsson', 'Brendan Gleeson', 'Jon Daly', 'Brian Caspe', 'Alden Ehrenreich', 'Morgan Freeman', 'Anthony Mackie', 'Jemaine Clement', 'Mauricio Lopez', 'Jeremy Davies', 'Ana de Armas', 'Allison Janney', 'Rachel Blanchard', 'David Acord', 'Zoey Deutch', 'Catherine Keener', 'Ralph Fiennes', 'Garance Marillier', 'Steele Stebbins', 'Chris Isaak', '?scar Jaenada', 'Austin Abrams', 'Jonny Weston', 'Mason Lee', 'Bruce Boxleitner', 'Ali Larter', 'Andy Samberg', 'Lainie Kazan', 'Chadwick Boseman', 'Rooney Mara', 'Sophie Nelisse', 'Jack Davenport', 'Oprah Winfrey', 'Brooklyn Decker', 'Adam Driver', 'Jeff Bridges', 'Ellen DeGeneres', 'Tijuana Ricks', 'Dakota Fanning', 'Benjamin Bratt', 'Jeff Goldblum', 'Brendan Fraser', 'Kristen Wiig', 'Julianna Margulies', 'Angelina Jolie', 'Kate Upton', 'Sienna Miller', 'Ashton Kutcher', 'Alexander Ludwig', 'Rebel Wilson', 'David Lyons', 'Jon Bernthal', 'Duncan Duff', 'Charlie Hunnam', 'Mark Rylance', 'Luing Andrews', 'Olivia Williams', 'Jonathan Daniel Brown', 'Philip Seymour Hoffman', 'Isabel Lucas', 'Robert Sheehan', 'Malcolm Sinclair', 'Michelle Rodriguez', 'Jason Bateman', 'Taylor Kitsch', 'Tye Sheridan', 'Anna Friel', 'Chris Evans', 'Zachery Ty Bryan', 'Margot Robbie', 'Emma Roberts', 'Eva Green', 'Stanley Tucci', 'Andy Lau', 'Logan Marshall-Green', 'Blake Jenner', 'Oliver Cooper', 'Dustin Hoffman', 'Dave Bautista', 'Jason Segel', 'Louis C.K.', 'Shariff Earp', 'Justin Theroux', 'Amber Heard', 'Christina Hendricks', 'Michael Keaton', 'Kathryn Hahn', 'Ray Winstone', 'Billy Crudup', 'Judi Dench', 'McCaul Lombardi', 'Emma Fitzpatrick', 'Nancy Kwan', 'James Floyd', 'Mary-Louise Parker', 'Kelly Macdonald', 'Lorraine Toussaint', 'Renee Zellweger', 'Jason Flemyng', 'Brittany Snow', 'Matthew Goode', 'Leslie Mann', 'Daniel Zovatto', 'Sylvester Stallone', 'Tom Cullen', 'Michael Fassbender', 'Doona Bae', 'Olivia DeJonge', 'Oscar Isaac', 'Demi Moore', 'Ernst Stotzner', 'Mandy Moore', 'Kyra Sedgwick', 'Werner Herzog', 'Timothy Spall', 'Burt Young', 'Rosario Dawson', 'Colin Firth', 'Ben Barnes', 'Leonardo DiCaprio', 'Jack McBrayer', 'Russell Brand', 'Aldis Hodge', 'Laura Linney', 'Dan Byrd', 'Scott Adsit', 'Gerard Butler', 'Martin Stringer', 'Charlize Theron', 'Nadine Velazquez', 'Jorma Taccone', 'Hayden Panettiere', 'Momo Dione', 'Astrid Berges-Frisbey', 'Teyonah Parris', 'Sonoya Mizuno', 'John Gallagher Jr.', 'Tom Hardy', 'Martin Kabanza', 'Eva Mendes', 'Andrew Scott', 'Kiernan Shipka', 'Julia Roberts', 'Joshua Leonard', 'Mackenzie Foy', 'Ben Walker', \"De'Shawn Washington\", 'Sebastian Stan', 'Raghuvir Joshi', 'Ben Whishaw', 'Nicholas Galitzine', 'Dane DeHaan', 'Paddy Considine', 'Kelly Reilly', 'Adewale Akinnuoye-Agbaje', 'Akiva Schaffer', 'Colton Haynes', 'Sandra Kinder', 'Kiersey Clemons', 'Eli Roth', 'Morgan Saylor', 'Nick Offerman', 'James Frecheville', 'Jack Nicholson', 'Rosie Huntington-Whiteley', 'Gretchen Mol', 'Ewan McGregor', 'Kristin Davis', 'Levi Miller', 'Matthew Perry', 'Robert Patrick', 'Claire Danes', 'Sarah Clarke', 'Amanda Seyfried', 'Paul Newman', 'Dominique Swain', 'Taika Waititi', 'Nathalie Boltt', 'Alison Pill', 'Rima Te Wiata', 'Hugh Jackman', \"Dylan O'Brien\", 'Viggo Mortensen', 'Aiden Longworth', 'Anna Kendrick', 'Bryan Cranston', 'Aaron Burns', 'Temuera Morrison', 'Lucas Hedges', 'Matthew Zuk', 'Matt Bomer', 'Michael Gambon', 'Lucy Boynton', 'Dakota Goyo', 'Michelle Monaghan', 'Harvey Keitel', 'Randall Park', 'Michael Kenneth Williams', \"Jack O'Connell\", 'Jamie Foxx', 'Mandy Gonzalez', 'Rebecca Ferguson', 'Michael Cera', 'Kevin Bacon', 'Andy Serkis', 'Tony Shalhoub', 'Paul Bettany', 'Common', 'Rupert Grint', 'Chris Pine', 'Walton Goggins', 'Justin Long', 'Woody Harrelson', 'Brian Cox', 'Moises Arias', 'Kelly Adams', 'Michael Yare', 'Jodie Foster', 'Topher Grace', 'Ellen Burstyn', 'Cate Blanchett', 'Ophelia Lovibond', 'Brian Howe', 'Christian Distefano', 'Essie Davis', 'Martin Henderson', 'Emilie de Ravin', 'Jean-Claude Van Damme', 'Taylor Lautner', 'Adam Brody', 'Alice Eve', 'Cole Konis', 'Logan Huffman', 'Noah Ringer', 'Naomie Harris', 'Yoo Gong', 'Sally Field', 'Charlotte Gainsbourg', 'Benjamin Walker', 'Kiefer Sutherland', 'Stephen Rea', 'Katey Sagal', 'Elena Anaya', 'Jane Fonda', 'Nicholas Hope', 'Lily-Rose Depp', 'Ty Simpkins', 'Alicia Vikander', 'Shea Adams', 'Romain Duris', 'Stellan Skarsgard', 'Lois van Wijk', 'Crispin Glover', 'Jaime Winstone', 'William Hurt', 'Sigourney Weaver', 'Jasper Newell', 'Teri Hatcher', 'Josh Hutcherson', 'Riccardo Scamarcio', 'Eddie Murphy', 'Rosie Shaw', 'Daisy Ridley', 'Karolina Gruszka', 'Keira Knightley', 'Travis Tope', 'Penelope Cruz', 'Regina Hall', 'Elizabeth Reaser', 'Chiwetel Ejiofor', 'Alexander Skarsgard', 'Taron Egerton', 'Zach Galifianakis', 'Bryan Greenberg', 'Matthew Marsden', 'Tom Hughes', 'Mahershala Ali', 'Anil Kapoor', 'Dakota Blue Richards', 'Emilia Clarke', 'T.J. Miller', 'Joel Kinnaman', 'Jorge Garcia', 'Adele Exarchopoulos', 'Emma Thompson', 'Damon Wayans Jr.', 'Octavia Spencer', 'Anthony Anderson', 'Jamie Campbell Bower', 'Zachary Quinto', 'Elizabeth Olsen', 'Scott Speedman', 'Graham McTavish', 'Giancarlo Esposito', 'Ryoko Seta', 'Nick Swardson', 'Gary Oldman', 'Sam Neill', 'Robert Downey Jr.', 'Ross Kimball', 'Orto Ignatiussen', 'Scott Eastwood', 'Hans Matheson', 'Halle Berry', 'Malin Akerman', 'Jai Courtney', 'Haley Lu Richardson', 'Tracy Letts', 'Randy Couture', 'John Malkovich', 'Maggie Q', 'Shailene Woodley', 'Jessica Biel', 'Bridgette Barrett', 'Maria Dizzia', 'Brandon T. Jackson', 'James Badge Dale', 'Ken Stott', 'Sean Bridgers', 'Michael B. Jordan', 'Josh Hartnett', 'Lara Pulver', 'David Oyelowo', 'Robert Carlyle', 'Matthew Macfadyen', 'Vince Vaughn', 'Don Cheadle', 'Madison Wolfe', 'Jonathan Rhys Meyers', 'Mark Ruffalo', 'Lily Collins', 'Christian Stolte', 'Damaine Radcliff', 'Max Minghella', 'Jessica Lange', 'Kathleen Quinlan', 'Calum Worthy', 'CCH Pounder', 'Carrie-Anne Moss', 'Steve Tom', 'Derek Jeter', 'Emilie Leclerc', 'Leonard Nimoy', 'Rachael Harris', 'Queen Latifah', 'Rob Corddry', 'Mila Kunis', 'Ryan Lee', 'Marisa Paredes', \"Ed O'Neill\", 'Andrew Garfield', 'Anna Camp', 'Steve Wiebe', 'Asa Butterfield', 'Winona Ryder', 'Eddie Marsan', 'Tom Holland', 'Lisa Kudrow', 'Freddy Rodriguez', 'Mathieu Amalric', 'Jamie Chung', 'Nellie', 'Ella Rumpf', 'Nicole Kidman', 'Jacki Weaver', 'Stephen Henderson', 'Ashley Benson', 'Bree Turner', 'Terence Stamp', 'Christopher McDonald', 'Richard Jenkins', 'Wendy Crewson', 'Lior Ashkenazi', 'John Carroll Lynch', 'David Morse', 'J.K. Simmons', 'Ellen Page', 'Kate McKinnon', 'Rodrigo Santoro', 'Drew Barrymore', 'Will Arnett', 'Billy Bob Thornton', 'Logan Paul', 'Tom Cruise', 'Francesc Albiol', 'Bryce Dallas Howard', 'Terrence Howard', 'Toby Jones', 'Karin Konoval', 'Daniel Day-Lewis', 'Anthony LaPaglia', 'Gabriel Luna', 'Natascha McElhone', 'George MacKay', 'Stephen Dorff', 'Lily Cole', 'Brenda Blethyn', 'Hunter McCracken', 'Alice Braga', 'Domhnall Gleeson', 'Jackson Rathbone', 'Kristen Connolly', 'Emma Stone', 'Christina Applegate', 'Armie Hammer', 'Justice Smith', 'Salli Richardson-Whitfield', 'Tom Mison', 'Emile Hirsch', 'Tom Wilkinson', 'Jeremy Irvine', 'Judy Davis', 'Storm Acheche Sahlstrom'}\n"
     ]
    }
   ],
   "source": [
    "import pandas as pd\n",
    "import matplotlib.pyplot as plt\n",
    "%matplotlib inline\n",
    "df=pd.read_csv(\"C:/Users/User/Downloads/IMDB-Movie-Data.csv\")\n",
    "ans=set([\"Johnny Depp\"])\n",
    "df[\"Actors\"]=df[\"Actors\"].str.split(\"|\")\n",
    "def dee(ans):\n",
    "    for a in range(len(df)):\n",
    "        for j in df[\"Actors\"][a]:\n",
    "            if j.strip() in ans:\n",
    "                ans=ans|set(df[\"Actors\"][a])\n",
    "    t=set()\n",
    "    for i in ans:\n",
    "        t.add(i.strip())\n",
    "    ans=t   \n",
    "    return ans\n",
    "le=len(ans)\n",
    "while le!=len(dee(ans)):\n",
    "    le=len(dee(ans))\n",
    "    ans=dee(ans)\n",
    "\n",
    "print(ans)"
   ]
  },
  {
   "cell_type": "code",
   "execution_count": null,
   "metadata": {},
   "outputs": [],
   "source": []
  }
 ],
 "metadata": {
  "kernelspec": {
   "display_name": "Python 3",
   "language": "python",
   "name": "python3"
  },
  "language_info": {
   "codemirror_mode": {
    "name": "ipython",
    "version": 3
   },
   "file_extension": ".py",
   "mimetype": "text/x-python",
   "name": "python",
   "nbconvert_exporter": "python",
   "pygments_lexer": "ipython3",
   "version": "3.8.8"
  }
 },
 "nbformat": 4,
 "nbformat_minor": 4
}
